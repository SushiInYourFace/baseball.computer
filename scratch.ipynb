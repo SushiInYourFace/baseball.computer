{
 "cells": [
  {
   "cell_type": "code",
   "execution_count": 1,
   "metadata": {},
   "outputs": [],
   "source": [
    "import duckdb\n",
    "import pyarrow as pa\n",
    "import polars as pl\n",
    "CHUNK_SIZE = 1000000"
   ]
  },
  {
   "cell_type": "code",
   "execution_count": 2,
   "metadata": {},
   "outputs": [],
   "source": [
    "\n",
    "conn = duckdb.connect(\"timeball.db\", read_only=True)\n",
    "rel = conn.sql(\"SELECT * FROM main_models.ml_features\")\n",
    "batch_reader = rel.record_batch(CHUNK_SIZE)\n",
    "schema = batch_reader.schema\n",
    "\n",
    "def gen():\n",
    "    for batch in batch_reader:\n",
    "        df = pl.from_arrow(batch)\n",
    "        # Do some stuff in polars, then go back to arrow\n",
    "        arrow_table = df.to_arrow()\n",
    "        temp_batcher = arrow_table.to_batches(CHUNK_SIZE)\n",
    "        for new_batch in temp_batcher:\n",
    "            yield new_batch"
   ]
  },
  {
   "cell_type": "code",
   "execution_count": 3,
   "metadata": {},
   "outputs": [],
   "source": [
    "final_batcher = pa.RecordBatchReader.from_batches(schema, gen())\n"
   ]
  },
  {
   "cell_type": "code",
   "execution_count": 4,
   "metadata": {},
   "outputs": [
    {
     "name": "stdout",
     "output_type": "stream",
     "text": [
      "batching\n",
      "batching\n",
      "batching\n",
      "batching\n",
      "batching\n",
      "batching\n",
      "batching\n",
      "batching\n",
      "batching\n",
      "batching\n",
      "batching\n",
      "batching\n",
      "batching\n",
      "batching\n",
      "batching\n",
      "batching\n"
     ]
    },
    {
     "data": {
      "text/plain": [
       "<duckdb.DuckDBPyConnection at 0x109ffc7f0>"
      ]
     },
     "execution_count": 4,
     "metadata": {},
     "output_type": "execute_result"
    }
   ],
   "source": [
    "cur = conn.cursor()\n",
    "cur.execute(\"CREATE OR REPLACE TEMP TABLE t AS (SELECT * FROM final_batcher)\")"
   ]
  },
  {
   "cell_type": "code",
   "execution_count": 7,
   "metadata": {},
   "outputs": [
    {
     "data": {
      "text/plain": [
       "┌──────────────┐\n",
       "│ count_star() │\n",
       "│    int64     │\n",
       "├──────────────┤\n",
       "│     15086910 │\n",
       "└──────────────┘"
      ]
     },
     "execution_count": 7,
     "metadata": {},
     "output_type": "execute_result"
    }
   ],
   "source": [
    "cur.sql(\"SELECT COUNT(*) FROM t\")"
   ]
  },
  {
   "cell_type": "code",
   "execution_count": null,
   "metadata": {},
   "outputs": [],
   "source": []
  }
 ],
 "metadata": {
  "kernelspec": {
   "display_name": "Python 3",
   "language": "python",
   "name": "python3"
  },
  "language_info": {
   "codemirror_mode": {
    "name": "ipython",
    "version": 3
   },
   "file_extension": ".py",
   "mimetype": "text/x-python",
   "name": "python",
   "nbconvert_exporter": "python",
   "pygments_lexer": "ipython3",
   "version": "3.10.12"
  },
  "orig_nbformat": 4
 },
 "nbformat": 4,
 "nbformat_minor": 2
}
